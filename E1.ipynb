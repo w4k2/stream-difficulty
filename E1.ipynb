{
 "cells": [
  {
   "cell_type": "markdown",
   "metadata": {},
   "source": [
    "## EKSPERYMENT 1\n",
    "### Komputer.\n",
    "\n",
    "Część 1: Przygotowanie danych i trenowanie klasyfikatorów\n",
    "\n",
    "Część 2: Dane, metoda\n",
    "\n",
    "Część 3: Badanie jakości w strumieniu o zmiennej strudności"
   ]
  },
  {
   "cell_type": "markdown",
   "metadata": {},
   "source": [
    "## Część 1: Trenowanie"
   ]
  },
  {
   "cell_type": "code",
   "execution_count": 10,
   "metadata": {},
   "outputs": [
    {
     "name": "stdout",
     "output_type": "stream",
     "text": [
      "Using downloaded and verified file: ./files/test_32x32.mat\n",
      "torch.Size([26032, 3, 32, 32])\n",
      "(26032,)\n"
     ]
    }
   ],
   "source": [
    "import torchvision\n",
    "import torch\n",
    "import torch.nn as nn\n",
    "from torch.utils.data import TensorDataset, DataLoader\n",
    "\n",
    "# Prepare trainig data\n",
    "train_data = torchvision.datasets.SVHN('./files/', \n",
    "                                  split='test', #Tak.\n",
    "                                  download=True)\n",
    "\n",
    "train_X = (torch.tensor(train_data.data)/255).to(torch.float)\n",
    "train_y = train_data.labels\n",
    "\n",
    "dataset = TensorDataset(torch.Tensor(train_X),torch.Tensor(train_y))\n",
    "dataloader = DataLoader(dataset, batch_size=64)\n",
    "\n",
    "print(train_X.shape)\n",
    "print(train_y.shape)"
   ]
  },
  {
   "cell_type": "code",
   "execution_count": 11,
   "metadata": {},
   "outputs": [
    {
     "name": "stdout",
     "output_type": "stream",
     "text": [
      "0 1 0.18599333\n",
      "0 51 0.74674827\n",
      "0 73 0.8031468\n",
      "1 1 0.18966399\n",
      "1 51 0.7343835\n",
      "1 101 0.78045094\n",
      "1 151 0.79133505\n",
      "1 201 0.79741496\n",
      "1 230 0.8000609\n",
      "2 1 0.1945208\n",
      "2 50 0.80065465\n",
      "3 1 0.18893427\n",
      "3 21 0.80185467\n",
      "4 1 0.18803671\n",
      "4 23 0.801934\n",
      "5 1 0.18952617\n",
      "5 32 0.80242145\n"
     ]
    }
   ],
   "source": [
    "from architectures import CNN, CNN1_10_Network, CNN1_5_Network, CNN2_10_20_Network, CNN2_5_10_Network, CNN3_5_10_20_Network, FC_Network\n",
    "\n",
    "# Initialize and train classifiers\n",
    "max_training_epochs = 250\n",
    "training_support_level = 0.8\n",
    "\n",
    "clfs = [\n",
    "    CNN(architecure=FC_Network(img_depth=3, x_input_size=32)),\n",
    "    CNN(architecure=CNN1_5_Network(img_depth=3, x_input_size=32)),\n",
    "    CNN(architecure=CNN1_10_Network(img_depth=3, x_input_size=32)),\n",
    "    CNN(architecure=CNN2_5_10_Network(img_depth=3, x_input_size=32)),\n",
    "    CNN(architecure=CNN2_10_20_Network(img_depth=3, x_input_size=32)),\n",
    "    CNN(architecure=CNN3_5_10_20_Network(img_depth=3, x_input_size=32)),  \n",
    "]\n",
    "\n",
    "loss_fn = torch.nn.CrossEntropyLoss()\n",
    "\n",
    "for clf_id, clf in enumerate(clfs):\n",
    "    optimizer = torch.optim.SGD(clf.parameters(), lr=1e-2)\n",
    "\n",
    "    for e in range(max_training_epochs):\n",
    "        if e==0:\n",
    "            clf.train(dataloader, loss_fn, optimizer)\n",
    "        else:\n",
    "\n",
    "            proba = nn.Softmax(dim=1)( clf(train_X))\n",
    "            max_proba = torch.max(proba, dim=1)[0] \n",
    "            mean_proba = torch.mean(max_proba).detach().numpy() # średnie wsparcie decyzyjne\n",
    "\n",
    "            if mean_proba>training_support_level:\n",
    "                print(clf_id, e, mean_proba)\n",
    "                break\n",
    "            \n",
    "            clf.train(dataloader, loss_fn, optimizer)\n",
    "        \n",
    "        if e%50==1:\n",
    "            print(clf_id, e, mean_proba)\n",
    "            "
   ]
  },
  {
   "cell_type": "code",
   "execution_count": 17,
   "metadata": {},
   "outputs": [],
   "source": [
    "# Save classifers\n",
    "for c_id, c in enumerate(clfs):\n",
    "    torch.save(c, 'models/%i.pt' % c_id)"
   ]
  },
  {
   "cell_type": "markdown",
   "metadata": {},
   "source": [
    "## Część 2: Przygotowanie danych i CDoS"
   ]
  },
  {
   "cell_type": "code",
   "execution_count": 18,
   "metadata": {},
   "outputs": [
    {
     "name": "stdout",
     "output_type": "stream",
     "text": [
      "Using downloaded and verified file: ./files/train_32x32.mat\n"
     ]
    }
   ],
   "source": [
    "import numpy as np\n",
    "from sklearn.decomposition import PCA\n",
    "from ConditionalEvidenceStream import ConditionalEvidenceStream\n",
    "from utils import make_condition_map, mix_to_factor\n",
    "import concepts\n",
    "import torch\n",
    "import torchvision\n",
    "\n",
    "# Load data\n",
    "stream_data = torchvision.datasets.SVHN('./files/', \n",
    "                                  split='train', \n",
    "                                  download=True)\n",
    "\n",
    "X = torch.tensor(stream_data.data)/255\n",
    "y = stream_data.labels\n",
    "\n",
    "X_pca = PCA(n_components=0.8).fit_transform(X.reshape(X.shape[0],-1))\n",
    "X_pca -= np.mean(X_pca, axis=0)\n",
    "X_pca /= np.std(X_pca, axis=0)\n",
    "\n",
    "factor = mix_to_factor(X_pca)"
   ]
  },
  {
   "cell_type": "code",
   "execution_count": 20,
   "metadata": {},
   "outputs": [],
   "source": [
    "# Load models\n",
    "\n",
    "clfs=[]\n",
    "for c_id in range(6):\n",
    "    clfs.append(torch.load('models/%i.pt' % c_id))"
   ]
  },
  {
   "cell_type": "code",
   "execution_count": 21,
   "metadata": {},
   "outputs": [],
   "source": [
    "from Method import CDoS_T\n",
    "\n",
    "# Prepare method\n",
    "thresholds = [1., 0.95, 0.9, 0.85, 0.8, 0.75]\n",
    "cdos = CDoS_T(clfs=clfs,\n",
    "           thresholds=thresholds)\n"
   ]
  },
  {
   "cell_type": "markdown",
   "metadata": {},
   "source": [
    "## Część 3: Eksperyment"
   ]
  },
  {
   "cell_type": "code",
   "execution_count": 24,
   "metadata": {},
   "outputs": [
    {
     "name": "stderr",
     "output_type": "stream",
     "text": [
      "/Users/joana/Documents/projects/stream-difficulty/concepts.py:50: RuntimeWarning: invalid value encountered in divide\n",
      "  concept_proba = concept_proba / np.sum(concept_proba, axis=1)[:,None]\n"
     ]
    },
    {
     "name": "stdout",
     "output_type": "stream",
     "text": [
      "[0.56 0.68 0.72 0.64 0.68 0.52 0.68]\n",
      "[0.00141311 0.00092435 0.00154495 0.00109005 0.00163507 0.00123596\n",
      " 0.00157523]\n",
      "[0.8  0.8  0.84 0.84 0.8  0.84 0.84]\n",
      "[0.00128102 0.00087881 0.00120401 0.00117612 0.00161982 0.00120306\n",
      " 0.00138116]\n",
      "[0.76 0.92 0.88 0.88 0.84 0.8  0.8 ]\n",
      "[0.00151205 0.00098801 0.00121427 0.00106716 0.00178528 0.00120711\n",
      " 0.0012579 ]\n"
     ]
    },
    {
     "name": "stderr",
     "output_type": "stream",
     "text": [
      "/Users/joana/Documents/projects/stream-difficulty/concepts.py:50: RuntimeWarning: invalid value encountered in divide\n",
      "  concept_proba = concept_proba / np.sum(concept_proba, axis=1)[:,None]\n"
     ]
    },
    {
     "name": "stdout",
     "output_type": "stream",
     "text": [
      "[0.76 0.64 0.72 0.8  0.76 0.72 0.72]\n",
      "[0.00104904 0.00139999 0.00131989 0.00106597 0.00156999 0.0012207\n",
      " 0.00158596]\n",
      "[0.56 0.68 0.6  0.72 0.72 0.64 0.64]\n",
      "[0.001513   0.00095701 0.00133419 0.00152087 0.00166297 0.00120711\n",
      " 0.001436  ]\n",
      "[0.6  0.68 0.64 0.68 0.6  0.72 0.72]\n",
      "[0.00142407 0.00096393 0.00116301 0.00133181 0.00164104 0.00179505\n",
      " 0.00145817]\n"
     ]
    },
    {
     "name": "stderr",
     "output_type": "stream",
     "text": [
      "/Users/joana/Documents/projects/stream-difficulty/concepts.py:50: RuntimeWarning: invalid value encountered in divide\n",
      "  concept_proba = concept_proba / np.sum(concept_proba, axis=1)[:,None]\n"
     ]
    },
    {
     "name": "stdout",
     "output_type": "stream",
     "text": [
      "[0.68 0.76 0.72 0.8  0.68 0.76 0.76]\n",
      "[0.00155592 0.00090528 0.00121999 0.00169802 0.00260377 0.00146389\n",
      " 0.00137901]\n",
      "[0.64 0.68 0.72 0.76 0.68 0.76 0.76]\n",
      "[0.00101876 0.00086904 0.00123501 0.00107312 0.00149417 0.00125885\n",
      " 0.00126696]\n",
      "[0.68 0.8  0.72 0.76 0.8  0.68 0.8 ]\n",
      "[0.00148869 0.00092793 0.00120711 0.00113416 0.00150394 0.001261\n",
      " 0.00148606]\n"
     ]
    },
    {
     "name": "stderr",
     "output_type": "stream",
     "text": [
      "/Users/joana/Documents/projects/stream-difficulty/concepts.py:50: RuntimeWarning: invalid value encountered in divide\n",
      "  concept_proba = concept_proba / np.sum(concept_proba, axis=1)[:,None]\n"
     ]
    },
    {
     "name": "stdout",
     "output_type": "stream",
     "text": [
      "[0.712 0.756 0.76  0.808 0.792 0.744 0.744]\n",
      "[0.00400209 0.00630498 0.00857401 0.00746298 0.0105679  0.00697207\n",
      " 0.00763392]\n",
      "[0.688 0.74  0.748 0.756 0.74  0.736 0.736]\n",
      "[0.00414896 0.00600505 0.00878286 0.00708199 0.01030803 0.00791383\n",
      " 0.00731397]\n",
      "[0.652 0.692 0.712 0.68  0.704 0.692 0.692]\n",
      "[0.0035429  0.00512004 0.00847626 0.00712991 0.01030707 0.00696087\n",
      " 0.00762391]\n"
     ]
    },
    {
     "name": "stderr",
     "output_type": "stream",
     "text": [
      "/Users/joana/Documents/projects/stream-difficulty/concepts.py:50: RuntimeWarning: invalid value encountered in divide\n",
      "  concept_proba = concept_proba / np.sum(concept_proba, axis=1)[:,None]\n"
     ]
    },
    {
     "name": "stdout",
     "output_type": "stream",
     "text": [
      "[0.668 0.724 0.76  0.74  0.748 0.72  0.72 ]\n",
      "[0.00448799 0.00650692 0.00900197 0.006953   0.01023889 0.00650334\n",
      " 0.00704432]\n",
      "[0.704 0.756 0.752 0.804 0.768 0.732 0.732]\n",
      "[0.00377607 0.00576067 0.00828195 0.00766277 0.00956297 0.00730705\n",
      " 0.00723505]\n",
      "[0.64  0.712 0.76  0.728 0.748 0.68  0.68 ]\n",
      "[0.00388312 0.00618291 0.00831985 0.00692892 0.00906992 0.00716114\n",
      " 0.00753522]\n"
     ]
    },
    {
     "name": "stderr",
     "output_type": "stream",
     "text": [
      "/Users/joana/Documents/projects/stream-difficulty/concepts.py:50: RuntimeWarning: invalid value encountered in divide\n",
      "  concept_proba = concept_proba / np.sum(concept_proba, axis=1)[:,None]\n"
     ]
    },
    {
     "name": "stdout",
     "output_type": "stream",
     "text": [
      "[0.712 0.692 0.716 0.744 0.748 0.708 0.708]\n",
      "[0.00392985 0.00614977 0.00806808 0.00695395 0.01044202 0.00781369\n",
      " 0.00847602]\n",
      "[0.704 0.752 0.788 0.792 0.784 0.784 0.784]\n",
      "[0.0041492  0.00500035 0.00849009 0.00623107 0.0101409  0.00677896\n",
      " 0.00758719]\n",
      "[0.668 0.7   0.708 0.72  0.716 0.74  0.74 ]\n",
      "[0.00426006 0.00589418 0.0087049  0.00645113 0.00949216 0.00750804\n",
      " 0.00886583]\n"
     ]
    },
    {
     "name": "stderr",
     "output_type": "stream",
     "text": [
      "/Users/joana/Documents/projects/stream-difficulty/concepts.py:50: RuntimeWarning: invalid value encountered in divide\n",
      "  concept_proba = concept_proba / np.sum(concept_proba, axis=1)[:,None]\n"
     ]
    },
    {
     "name": "stdout",
     "output_type": "stream",
     "text": [
      "[0.7   0.718 0.734 0.754 0.732 0.698 0.698]\n",
      "[0.00763011 0.01203704 0.01631999 0.01475191 0.03061485 0.02939606\n",
      " 0.02373981]\n",
      "[0.72  0.748 0.778 0.794 0.774 0.77  0.77 ]\n",
      "[0.0084281  0.0138092  0.01839399 0.0151031  0.02097702 0.01564598\n",
      " 0.01869702]\n",
      "[0.732 0.734 0.754 0.78  0.778 0.744 0.744]\n",
      "[0.00843692 0.0113461  0.01487398 0.01325226 0.01897287 0.01401305\n",
      " 0.01402712]\n"
     ]
    },
    {
     "name": "stderr",
     "output_type": "stream",
     "text": [
      "/Users/joana/Documents/projects/stream-difficulty/concepts.py:50: RuntimeWarning: invalid value encountered in divide\n",
      "  concept_proba = concept_proba / np.sum(concept_proba, axis=1)[:,None]\n"
     ]
    },
    {
     "name": "stdout",
     "output_type": "stream",
     "text": [
      "[0.664 0.702 0.742 0.74  0.738 0.71  0.71 ]\n",
      "[0.0083158  0.01103997 0.01545691 0.01315618 0.01863503 0.01408696\n",
      " 0.01547885]\n",
      "[0.698 0.76  0.744 0.758 0.788 0.712 0.788]\n",
      "[0.00802422 0.01098394 0.01481581 0.01312685 0.01894808 0.01458502\n",
      " 0.01754498]\n",
      "[0.7   0.708 0.734 0.74  0.726 0.732 0.732]\n",
      "[0.00730014 0.01154685 0.01722431 0.01234007 0.01884198 0.01476932\n",
      " 0.01469803]\n"
     ]
    },
    {
     "name": "stderr",
     "output_type": "stream",
     "text": [
      "/Users/joana/Documents/projects/stream-difficulty/concepts.py:50: RuntimeWarning: invalid value encountered in divide\n",
      "  concept_proba = concept_proba / np.sum(concept_proba, axis=1)[:,None]\n"
     ]
    },
    {
     "name": "stdout",
     "output_type": "stream",
     "text": [
      "[0.706 0.748 0.766 0.768 0.786 0.748 0.748]\n",
      "[0.00747895 0.01168895 0.01581883 0.01336098 0.01960111 0.01493192\n",
      " 0.01474905]\n",
      "[0.728 0.748 0.778 0.78  0.778 0.744 0.778]\n",
      "[0.00726986 0.01180863 0.01629114 0.01400208 0.01940513 0.01488829\n",
      " 0.02020907]\n",
      "[0.716 0.754 0.778 0.772 0.774 0.76  0.76 ]\n",
      "[0.00693488 0.0113821  0.01578593 0.01431489 0.01953101 0.01492405\n",
      " 0.01623774]\n"
     ]
    }
   ],
   "source": [
    "import time\n",
    "from sklearn.metrics import accuracy_score\n",
    "\n",
    "# Experimental setup\n",
    "n_chunks = 1000\n",
    "chunk_size = [25, 250, 500]\n",
    "n_cycles = [5, 10, 25]\n",
    "modes = {\n",
    "    'instant': {'mode': 'instant'},\n",
    "    'normal_1': {'mode': 'normal', 'sigma': 1},\n",
    "    'normal_3': {'mode': 'normal', 'sigma': 3}\n",
    "    }\n",
    "\n",
    "accs = np.zeros((len(chunk_size), len(n_cycles), len(modes), n_chunks, 7))\n",
    "times = np.zeros((len(chunk_size), len(n_cycles), len(modes), n_chunks, 7))\n",
    "\n",
    "for cs_id, cs in enumerate(chunk_size):\n",
    "    for n_c_id, nc in enumerate(n_cycles):\n",
    "        for m_id, mode in enumerate(modes):\n",
    "\n",
    "            condition_map = make_condition_map(n_cycles=nc,\n",
    "                                            n_concepts=500,\n",
    "                                            factor=factor,\n",
    "                                            factor_range=(0.1,0.9))\n",
    "\n",
    "            cp = concepts.concept_proba(n_concepts=500,\n",
    "                                        n_chunks=n_chunks,\n",
    "                                        normalize=True,\n",
    "                                        **modes[mode])\n",
    "\n",
    "            stream = ConditionalEvidenceStream(X, y,\n",
    "                                            condition_map.T,\n",
    "                                            cp,\n",
    "                                            chunk_size=cs,\n",
    "                                            fragile=False)\n",
    "            \n",
    "            \n",
    "\n",
    "            \n",
    "            for chunk_id in range(n_chunks):\n",
    "                _X, _y = stream.get_chunk()\n",
    "                \n",
    "                # Regular clfs\n",
    "                for c_id, c in enumerate(clfs):\n",
    "                    start = time.time()\n",
    "                    proba = nn.Softmax(dim=1)(c(_X))\n",
    "                    p = torch.argmax(proba, dim=1)    \n",
    "                    elapsed = time.time()-start\n",
    "                    \n",
    "                    accs[cs_id, n_c_id, m_id, chunk_id, c_id] = accuracy_score(_y, p)\n",
    "                    times[cs_id, n_c_id, m_id, chunk_id, c_id] = elapsed\n",
    "                    \n",
    "                #CDos\n",
    "                start = time.time()\n",
    "                p = cdos.predict(_X)\n",
    "                elapsed = time.time()-start\n",
    "                \n",
    "                accs[cs_id, n_c_id, m_id, chunk_id, -1] = accuracy_score(_y, p)\n",
    "                times[cs_id, n_c_id, m_id, chunk_id, -1] = elapsed\n",
    "                \n",
    "            print(accs[cs_id, n_c_id, m_id, chunk_id])\n",
    "            print(times[cs_id, n_c_id, m_id, chunk_id])\n",
    "            \n",
    "            np.save('e1_accs.npy', accs)\n",
    "            np.save('e1_times.npy', times)\n",
    "            \n",
    "            \n"
   ]
  },
  {
   "cell_type": "markdown",
   "metadata": {},
   "source": [
    "## Analiza wyników"
   ]
  },
  {
   "cell_type": "code",
   "execution_count": 25,
   "metadata": {},
   "outputs": [
    {
     "name": "stdout",
     "output_type": "stream",
     "text": [
      "(3, 3, 3, 1000, 7) (3, 3, 3, 1000, 7)\n"
     ]
    }
   ],
   "source": [
    "accs = np.load('e1_accs.npy')\n",
    "times = np.load('e1_times.npy')\n",
    "\n",
    "print(accs.shape, times.shape)\n",
    "\n",
    "#cs_id, n_c_id, m_id, chunk_id, c_id"
   ]
  },
  {
   "cell_type": "code",
   "execution_count": null,
   "metadata": {},
   "outputs": [],
   "source": [
    "import matplotlib.pyplot as plt\n",
    "from scipy.ndimage import gaussian_filter1d\n",
    "\n",
    "s=3\n",
    "cols = plt.cm.jet(np.linspace(0,1,7))\n",
    "\n",
    "for c_id, c in enumerate(chunk_size):\n",
    "    fig, ax = plt.subplots(3,3, figsize=(12,8))\n",
    "    \n",
    "    for n_c_id, n_c in enumerate(n_cycles):\n",
    "        for mode_id, mode in enumerate(modes):\n",
    "            \n",
    "            ax[n_c_id, mode_id].set_title('chunks:%i mode:%s' % (n_c, mode))\n",
    "            for method_id in range(7):\n",
    "                temp = accs[c_id, n_c_id, mode_id, :, method_id]\n",
    "                ax[n_c_id, mode_id].plot(gaussian_filter1d(temp, s), c=cols[method_id])\n",
    "    \n",
    "    plt.show()\n",
    "    \n",
    "                "
   ]
  }
 ],
 "metadata": {
  "kernelspec": {
   "display_name": "torch",
   "language": "python",
   "name": "python3"
  },
  "language_info": {
   "codemirror_mode": {
    "name": "ipython",
    "version": 3
   },
   "file_extension": ".py",
   "mimetype": "text/x-python",
   "name": "python",
   "nbconvert_exporter": "python",
   "pygments_lexer": "ipython3",
   "version": "3.9.15"
  },
  "orig_nbformat": 4
 },
 "nbformat": 4,
 "nbformat_minor": 2
}
