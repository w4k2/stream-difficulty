{
 "cells": [
  {
   "cell_type": "markdown",
   "metadata": {},
   "source": [
    "## Training"
   ]
  },
  {
   "cell_type": "code",
   "execution_count": 1,
   "metadata": {},
   "outputs": [
    {
     "name": "stdout",
     "output_type": "stream",
     "text": [
      "torch.Size([10000, 1, 28, 28])\n",
      "torch.Size([10000])\n"
     ]
    },
    {
     "name": "stderr",
     "output_type": "stream",
     "text": [
      "/var/folders/md/9788g9qs5h77d4hrzh39xpkc0000gn/T/ipykernel_2958/2281852813.py:13: UserWarning: To copy construct from a tensor, it is recommended to use sourceTensor.clone().detach() or sourceTensor.clone().detach().requires_grad_(True), rather than torch.tensor(sourceTensor).\n",
      "  train_X = (torch.tensor(train_data.data)/255).to(torch.float)\n"
     ]
    }
   ],
   "source": [
    "import torchvision\n",
    "import torch\n",
    "import torch.nn as nn\n",
    "from torch.utils.data import TensorDataset, DataLoader\n",
    "\n",
    "torch.manual_seed(5531)\n",
    "\n",
    "# Prepare trainig data\n",
    "train_data = torchvision.datasets.MNIST('./files/', \n",
    "                                  train=False, #Tak.\n",
    "                                  download=True)\n",
    "\n",
    "train_X = (torch.tensor(train_data.data)/255).to(torch.float)\n",
    "train_X = train_X.reshape(train_X.shape[0], 1, train_X.shape[1], train_X.shape[2])\n",
    "train_y = train_data.targets\n",
    "\n",
    "dataset = TensorDataset(torch.Tensor(train_X),torch.Tensor(train_y))\n",
    "dataloader = DataLoader(dataset, batch_size=64)\n",
    "\n",
    "print(train_X.shape)\n",
    "print(train_y.shape)"
   ]
  },
  {
   "cell_type": "code",
   "execution_count": 2,
   "metadata": {},
   "outputs": [
    {
     "name": "stdout",
     "output_type": "stream",
     "text": [
      "0 1 0.40806052\n",
      "0 51 0.9354808\n",
      "0 72 0.9502322\n",
      "1 1 0.5474046\n",
      "1 51 0.9404277\n",
      "1 63 0.95050555\n",
      "2 1 0.13053115\n",
      "2 22 0.9500297\n",
      "3 1 0.6263041\n",
      "3 50 0.9502016\n",
      "4 1 0.3133268\n",
      "4 19 0.95116943\n"
     ]
    }
   ],
   "source": [
    "from methods.architectures import *\n",
    "\n",
    "# Initialize and train classifiers\n",
    "max_training_epochs = 250\n",
    "training_support_level = 0.95\n",
    "\n",
    "clfs = [\n",
    "    CNN(architecure=CNN1_5_Network()),\n",
    "    CNN(architecure=CNN1_10_Network()),\n",
    "    CNN(architecure=CNN2_10_15_Network()),\n",
    "    CNN(architecure=CNN1_20_Network()),\n",
    "    CNN(architecure=CNN2_25_40_Network()),  \n",
    "]\n",
    "\n",
    "loss_fn = torch.nn.CrossEntropyLoss()\n",
    "\n",
    "for clf_id, clf in enumerate(clfs):\n",
    "    optimizer = torch.optim.SGD(clf.parameters(), lr=1e-2)\n",
    "\n",
    "    for e in range(max_training_epochs):\n",
    "        if e==0:\n",
    "            clf.custom_train(dataloader, loss_fn, optimizer)\n",
    "        else:\n",
    "\n",
    "            proba = nn.Softmax(dim=1)( clf(train_X))\n",
    "            max_proba = torch.max(proba, dim=1)[0] \n",
    "            mean_proba = torch.mean(max_proba).detach().numpy() # średnie wsparcie decyzyjne\n",
    "\n",
    "            if mean_proba>training_support_level:\n",
    "                print(clf_id, e, mean_proba)\n",
    "                break\n",
    "            \n",
    "            clf.custom_train(dataloader, loss_fn, optimizer)\n",
    "        \n",
    "        if e%50==1:\n",
    "            print(clf_id, e, mean_proba)\n",
    "            "
   ]
  }
 ],
 "metadata": {
  "kernelspec": {
   "display_name": "torch",
   "language": "python",
   "name": "python3"
  },
  "language_info": {
   "codemirror_mode": {
    "name": "ipython",
    "version": 3
   },
   "file_extension": ".py",
   "mimetype": "text/x-python",
   "name": "python",
   "nbconvert_exporter": "python",
   "pygments_lexer": "ipython3",
   "version": "3.9.15"
  },
  "orig_nbformat": 4
 },
 "nbformat": 4,
 "nbformat_minor": 2
}
